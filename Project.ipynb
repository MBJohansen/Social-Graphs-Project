{
 "cells": [
  {
   "cell_type": "code",
   "execution_count": 1,
   "metadata": {},
   "outputs": [],
   "source": [
    "import io\n",
    "import pandas as pd\n",
    "import numpy as np"
   ]
  },
  {
   "cell_type": "code",
   "execution_count": 2,
   "metadata": {},
   "outputs": [],
   "source": [
    "df = pd.read_csv(\"MovieSummaries/character.metadata.tsv\", sep=\"\\t\", header=None)"
   ]
  },
  {
   "cell_type": "code",
   "execution_count": 3,
   "metadata": {},
   "outputs": [],
   "source": [
    "df = pd.DataFrame(\n",
    "    np.row_stack([df.columns, df.values]),\n",
    "    columns=['Wikipedia_movie_ID',\n",
    "             'Freebase_movie_ID',\n",
    "             'Movie_release_date',\n",
    "             'Character_name',\n",
    "             'Actor_DOB',\n",
    "             'Actor_gender',\n",
    "             'Actor_height',\n",
    "             'Actor_ethnicity',\n",
    "             'Actor_name',\n",
    "             'Actor_age_at_movie_release',\n",
    "             'Freebase_character_map',\n",
    "             'Do_not_know_1',\n",
    "             'Do_not_know_2'\n",
    "            ]\n",
    ")\n",
    "\n",
    "\n",
    "#             'Movie_box_office_revenue',\n",
    " #            'Movie_runtime',\n",
    "  #           'Movie_languages',\n",
    "   #          'Movie_countries',\n",
    "    #         'Movie_genres'"
   ]
  },
  {
   "cell_type": "code",
   "execution_count": 4,
   "metadata": {},
   "outputs": [],
   "source": [
    "moviePlots = io.open(\"MovieSummaries/plot_summaries.txt\", encoding = 'utf8').read()"
   ]
  },
  {
   "cell_type": "code",
   "execution_count": 5,
   "metadata": {},
   "outputs": [],
   "source": [
    "moviePlots= moviePlots.split(sep='\\n')"
   ]
  },
  {
   "cell_type": "code",
   "execution_count": 6,
   "metadata": {},
   "outputs": [
    {
     "data": {
      "text/plain": [
       "42307"
      ]
     },
     "execution_count": 6,
     "metadata": {},
     "output_type": "execute_result"
    }
   ],
   "source": [
    "len(moviePlots)"
   ]
  },
  {
   "cell_type": "code",
   "execution_count": 7,
   "metadata": {},
   "outputs": [],
   "source": [
    "movieDict = {}\n",
    "\n",
    "for movie in moviePlots:\n",
    "    words = movie.split(sep='\\t')\n",
    "    if(len(words) > 1):\n",
    "        movieDict[words[0]] = words[1:]"
   ]
  },
  {
   "cell_type": "code",
   "execution_count": 8,
   "metadata": {},
   "outputs": [
    {
     "data": {
      "text/plain": [
       "42306"
      ]
     },
     "execution_count": 8,
     "metadata": {},
     "output_type": "execute_result"
    }
   ],
   "source": [
    "len(movieDict)"
   ]
  },
  {
   "cell_type": "code",
   "execution_count": null,
   "metadata": {},
   "outputs": [],
   "source": []
  }
 ],
 "metadata": {
  "kernelspec": {
   "display_name": "Python 3",
   "language": "python",
   "name": "python3"
  },
  "language_info": {
   "codemirror_mode": {
    "name": "ipython",
    "version": 3
   },
   "file_extension": ".py",
   "mimetype": "text/x-python",
   "name": "python",
   "nbconvert_exporter": "python",
   "pygments_lexer": "ipython3",
   "version": "3.7.4"
  }
 },
 "nbformat": 4,
 "nbformat_minor": 2
}
