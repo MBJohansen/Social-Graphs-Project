{
 "cells": [
  {
   "cell_type": "markdown",
   "metadata": {},
   "source": [
    "# Data cleaner\n",
    "\n",
    "## IMDb Network Data"
   ]
  },
  {
   "cell_type": "code",
   "execution_count": 1,
   "metadata": {},
   "outputs": [],
   "source": [
    "#Imports\n",
    "import io\n",
    "import pandas as pd\n",
    "import numpy as np"
   ]
  },
  {
   "cell_type": "code",
   "execution_count": 4,
   "metadata": {},
   "outputs": [],
   "source": [
    "#Read raw files\n",
    "#NB: These are not on Github due to size\n",
    "title_basics = pd.read_csv(\"../../Project Data/IMDb/title_basics.tsv\", sep=\"\\t\")\n",
    "name_basics = pd.read_csv(\"../../Project Data/IMDb/name_basics.tsv\", sep=\"\\t\")\n",
    "title_principals = pd.read_csv(\"../../Project Data/IMDb/title_principals.tsv\", sep=\"\\t\")"
   ]
  },
  {
   "cell_type": "code",
   "execution_count": 5,
   "metadata": {},
   "outputs": [
    {
     "name": "stderr",
     "output_type": "stream",
     "text": [
      "C:\\Users\\mads9\\Anaconda3\\lib\\site-packages\\ipykernel_launcher.py:4: FutureWarning: The 'get_values' method is deprecated and will be removed in a future version. Use '.values' or 'np.asarray(..)' instead.\n",
      "  after removing the cwd from sys.path.\n"
     ]
    }
   ],
   "source": [
    "#Create movie dictionary\n",
    "movieTitles = {}\n",
    "\n",
    "for movie in title_basics.get_values(): \n",
    "    if movie[1] == \"movie\" and movie[4] == 0:\n",
    "        movieTitles[movie[0]] = [movie[2], movie[8]]"
   ]
  },
  {
   "cell_type": "code",
   "execution_count": 6,
   "metadata": {},
   "outputs": [
    {
     "name": "stderr",
     "output_type": "stream",
     "text": [
      "C:\\Users\\mads9\\Anaconda3\\lib\\site-packages\\ipykernel_launcher.py:4: FutureWarning: The 'get_values' method is deprecated and will be removed in a future version. Use '.values' or 'np.asarray(..)' instead.\n",
      "  after removing the cwd from sys.path.\n"
     ]
    }
   ],
   "source": [
    "#Create actor name dictionary\n",
    "actorNames = {}\n",
    "\n",
    "for actor in name_basics.get_values(): \n",
    "    actorNames[actor[0]] = actor[1]"
   ]
  },
  {
   "cell_type": "code",
   "execution_count": 7,
   "metadata": {
    "scrolled": true
   },
   "outputs": [
    {
     "name": "stderr",
     "output_type": "stream",
     "text": [
      "C:\\Users\\mads9\\Anaconda3\\lib\\site-packages\\ipykernel_launcher.py:4: FutureWarning: The 'get_values' method is deprecated and will be removed in a future version. Use '.values' or 'np.asarray(..)' instead.\n",
      "  after removing the cwd from sys.path.\n"
     ]
    }
   ],
   "source": [
    "#Create movie and actor/actress dictionary\n",
    "movieAndActors = {}\n",
    "\n",
    "for combo in title_principals.get_values(): \n",
    "    if combo[3] == \"actor\" or combo[3] == \"actress\" :\n",
    "        #print(combo[5])\n",
    "        if combo[2] in actorNames.keys():\n",
    "            name = actorNames[combo[2]]\n",
    "        else:\n",
    "            continue\n",
    "\n",
    "        if combo[0] in movieTitles.keys():\n",
    "            movie = movieTitles[combo[0]][0]\n",
    "        else:\n",
    "            continue\n",
    "\n",
    "       # movie = movieTitles[combo[0]][0]\n",
    "        genres = movieTitles[combo[0]][1]\n",
    "        \n",
    "        if name in movieAndActors.keys():\n",
    "            movieAndActors[name].append(combo[0])\n",
    "        else:\n",
    "            movieAndActors[name] = [combo[0]]"
   ]
  },
  {
   "cell_type": "markdown",
   "metadata": {},
   "source": [
    "Remove file \"movie_titles_clean.tsv\" from Data/IMDb/ before running cell below."
   ]
  },
  {
   "cell_type": "code",
   "execution_count": 8,
   "metadata": {},
   "outputs": [],
   "source": [
    "#Create clean movie title file\n",
    "filename = \"Data/IMDb/movie_titles_clean.tsv\"\n",
    "f = open(filename, \"a\", encoding=\"utf-8\")\n",
    "\n",
    "f.write(\"tconst \\t title \\t genres \\n\")\n",
    "\n",
    "for m in movieTitles:\n",
    "    #print(m)\n",
    "    #print(movieTitles[m])\n",
    "    #break\n",
    "    \n",
    "    f.write(m + \"\\t\" + movieTitles[m][0] + \"\\t\" + movieTitles[m][1] + \"\\n\")\n",
    "\n",
    "f.close()"
   ]
  },
  {
   "cell_type": "markdown",
   "metadata": {},
   "source": [
    "Remove file \"movie_and_actors_clean.tsv\" from Data/IMDb/ before running cell below."
   ]
  },
  {
   "cell_type": "code",
   "execution_count": 11,
   "metadata": {},
   "outputs": [],
   "source": [
    "#Create clean movie and actor/actress file\n",
    "filename = \"Data/IMDb/movie_and_actors_clean.tsv\"\n",
    "f = open(filename, \"a\", encoding=\"utf-8\")\n",
    "\n",
    "f.write(\"name \\t tconst(s) \\n\")\n",
    "\n",
    "for m in movieAndActors:\n",
    "    #print(m)\n",
    "    #print(movie_AndActors[m])\n",
    "    #break\n",
    "    \n",
    "    s = m + \"\\t\"\n",
    "    \n",
    "    for t in movieAndActors[m]:\n",
    "        \n",
    "        s = s + t + \",\"\n",
    "    \n",
    "    f.write(s[:-1] + \"\\n\")\n",
    "\n",
    "f.close()"
   ]
  },
  {
   "cell_type": "markdown",
   "metadata": {},
   "source": [
    "## Network Data Cleaning\n",
    "\n",
    "The following code shows how the data was cleaned before constructing the network. \n",
    "It is disabled by default so if one wants to run it make sure to follow the instructions in the comments"
   ]
  },
  {
   "cell_type": "code",
   "execution_count": null,
   "metadata": {},
   "outputs": [],
   "source": [
    "#To perform data cleaning on the network data set \"performDataCleaning\" to \"True\"\n",
    "#NB: Before running this make sure there are no output files in the desired output locations \n",
    "#    because otherwise the code will append data to those files and thus duplicate data\n",
    "performDataCleaning = False\n",
    "\n",
    "if performDataCleaning:\n",
    "    #Read raw files\n",
    "    #NB: These are not on Github due to size, i.e. the paths are local\n",
    "    title_basics = pd.read_csv(\"../../Project Data/IMDb/title_basics.tsv\", sep=\"\\t\")\n",
    "    name_basics = pd.read_csv(\"../../Project Data/IMDb/name_basics.tsv\", sep=\"\\t\")\n",
    "    title_principals = pd.read_csv(\"../../Project Data/IMDb/title_principals.tsv\", sep=\"\\t\")\n",
    "\n",
    "\n",
    "    #Create movie dictionary\n",
    "    movieTitles = {}\n",
    "\n",
    "    for movie in title_basics.get_values(): \n",
    "        if movie[1] == \"movie\" and movie[4] == 0:\n",
    "            movieTitles[movie[0]] = [movie[2], movie[8]]\n",
    "\n",
    "\n",
    "    #Create actor name dictionary\n",
    "    actorNames = {}\n",
    "\n",
    "    for actor in name_basics.get_values(): \n",
    "        actorNames[actor[0]] = actor[1]\n",
    "\n",
    "\n",
    "    #Create movie and actor/actress dictionary\n",
    "    movieAndActors = {}\n",
    "\n",
    "    for combo in title_principals.get_values(): \n",
    "        if combo[3] == \"actor\" or combo[3] == \"actress\" :\n",
    "            #print(combo[5])\n",
    "            if combo[2] in actorNames.keys():\n",
    "                name = actorNames[combo[2]]\n",
    "            else:\n",
    "                continue\n",
    "\n",
    "            if combo[0] in movieTitles.keys():\n",
    "                movie = movieTitles[combo[0]][0]\n",
    "            else:\n",
    "                continue\n",
    "\n",
    "           # movie = movieTitles[combo[0]][0]\n",
    "            genres = movieTitles[combo[0]][1]\n",
    "\n",
    "            if name in movieAndActors.keys():\n",
    "                movieAndActors[name].append(combo[0])\n",
    "            else:\n",
    "                movieAndActors[name] = [combo[0]]\n",
    "\n",
    "\n",
    "    #Create clean movie title file\n",
    "    filename = \"Data/IMDb/movie_titles_clean.tsv\"\n",
    "    f = open(filename, \"a\", encoding=\"utf-8\")\n",
    "\n",
    "    f.write(\"tconst \\t title \\t genres \\n\")\n",
    "\n",
    "    for m in movieTitles:\n",
    "        #print(m)\n",
    "        #print(movieTitles[m])\n",
    "        #break\n",
    "\n",
    "        f.write(m + \"\\t\" + movieTitles[m][0] + \"\\t\" + movieTitles[m][1] + \"\\n\")\n",
    "\n",
    "    f.close()\n",
    "\n",
    "\n",
    "    #Create clean movie and actor/actress file\n",
    "    filename = \"Data/IMDb/movie_and_actors_clean.tsv\"\n",
    "    f = open(filename, \"a\", encoding=\"utf-8\")\n",
    "\n",
    "    f.write(\"name \\t tconst(s) \\n\")\n",
    "\n",
    "    for m in movieAndActors:\n",
    "        #print(m)\n",
    "        #print(movie_AndActors[m])\n",
    "        #break\n",
    "\n",
    "        s = m + \"\\t\"\n",
    "\n",
    "        for t in movieAndActors[m]:\n",
    "\n",
    "            s = s + t + \",\"\n",
    "\n",
    "        f.write(s[:-1] + \"\\n\")\n",
    "\n",
    "    f.close()\n"
   ]
  },
  {
   "cell_type": "code",
   "execution_count": null,
   "metadata": {},
   "outputs": [],
   "source": []
  },
  {
   "cell_type": "code",
   "execution_count": null,
   "metadata": {},
   "outputs": [],
   "source": []
  },
  {
   "cell_type": "code",
   "execution_count": null,
   "metadata": {},
   "outputs": [],
   "source": []
  }
 ],
 "metadata": {
  "kernelspec": {
   "display_name": "Python 3",
   "language": "python",
   "name": "python3"
  },
  "language_info": {
   "codemirror_mode": {
    "name": "ipython",
    "version": 3
   },
   "file_extension": ".py",
   "mimetype": "text/x-python",
   "name": "python",
   "nbconvert_exporter": "python",
   "pygments_lexer": "ipython3",
   "version": "3.7.4"
  }
 },
 "nbformat": 4,
 "nbformat_minor": 2
}
