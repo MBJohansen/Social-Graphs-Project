{
 "cells": [
  {
   "cell_type": "code",
   "execution_count": 2,
   "metadata": {
    "collapsed": true
   },
   "outputs": [],
   "source": [
    "import io\n",
    "import pandas as pd\n",
    "import numpy as np"
   ]
  },
  {
   "cell_type": "code",
   "execution_count": 3,
   "metadata": {
    "collapsed": true
   },
   "outputs": [],
   "source": [
    "df = pd.read_csv(\"MovieSummaries/character.metadata.tsv\", sep=\"\\t\", header=None)"
   ]
  },
  {
   "cell_type": "code",
   "execution_count": 4,
   "metadata": {
    "collapsed": true
   },
   "outputs": [],
   "source": [
    "df = pd.DataFrame(\n",
    "    np.row_stack([df.columns, df.values]),\n",
    "    columns=['Wikipedia_movie_ID',\n",
    "             'Freebase_movie_ID',\n",
    "             'Movie_release_date',\n",
    "             'Character_name',\n",
    "             'Actor_DOB',\n",
    "             'Actor_gender',\n",
    "             'Actor_height',\n",
    "             'Actor_ethnicity',\n",
    "             'Actor_name',\n",
    "             'Actor_age_at_movie_release',\n",
    "             'Freebase_character_map',\n",
    "             'Do_not_know_1',\n",
    "             'Do_not_know_2'\n",
    "            ]\n",
    ")\n",
    "\n",
    "\n",
    "#             'Movie_box_office_revenue',\n",
    " #            'Movie_runtime',\n",
    "  #           'Movie_languages',\n",
    "   #          'Movie_countries',\n",
    "    #         'Movie_genres'"
   ]
  },
  {
   "cell_type": "code",
   "execution_count": 5,
   "metadata": {
    "collapsed": true
   },
   "outputs": [],
   "source": [
    "moviePlots = io.open(\"MovieSummaries/plot_summaries.txt\", encoding = 'utf8').read()"
   ]
  },
  {
   "cell_type": "code",
   "execution_count": 6,
   "metadata": {
    "collapsed": true
   },
   "outputs": [],
   "source": [
    "moviePlots= moviePlots.split(sep='\\n')"
   ]
  },
  {
   "cell_type": "code",
   "execution_count": 7,
   "metadata": {},
   "outputs": [
    {
     "data": {
      "text/plain": [
       "42307"
      ]
     },
     "execution_count": 7,
     "metadata": {},
     "output_type": "execute_result"
    }
   ],
   "source": [
    "len(moviePlots)"
   ]
  },
  {
   "cell_type": "code",
   "execution_count": 8,
   "metadata": {
    "collapsed": true
   },
   "outputs": [],
   "source": [
    "movieDict = {}\n",
    "\n",
    "for movie in moviePlots:\n",
    "    words = movie.split(sep='\\t')\n",
    "    if(len(words) > 1):\n",
    "        movieDict[words[0]] = words[1:]"
   ]
  },
  {
   "cell_type": "code",
   "execution_count": 9,
   "metadata": {},
   "outputs": [
    {
     "data": {
      "text/plain": [
       "42306"
      ]
     },
     "execution_count": 9,
     "metadata": {},
     "output_type": "execute_result"
    }
   ],
   "source": [
    "len(movieDict)"
   ]
  },
  {
   "cell_type": "code",
   "execution_count": 10,
   "metadata": {},
   "outputs": [
    {
     "data": {
      "text/plain": [
       "535541"
      ]
     },
     "execution_count": 10,
     "metadata": {},
     "output_type": "execute_result"
    }
   ],
   "source": [
    "IMDbMovies = pd.read_csv(\"IMDb/clean_data.tsv\", sep=\"\\t\", dtype={\"tconst\": object, \"titleType\": object, \"primaryTitle\": object, \"originalTitle\": object, \"isAdult\": object, \"startYear\": object, \"endYear\": object, \"runtimeMinutes\": object, \"genres\": object})\n",
    "IMDbMoviesFilter = IMDbMovies['titleType']==\"movie\"\n",
    "IMDbMovies = IMDbMovies[IMDbMoviesFilter]\n",
    "len(IMDbMovies)"
   ]
  },
  {
   "cell_type": "code",
   "execution_count": 11,
   "metadata": {
    "collapsed": true
   },
   "outputs": [],
   "source": [
    "recentYears = list(map(str, range(2012,2019)))"
   ]
  },
  {
   "cell_type": "code",
   "execution_count": 12,
   "metadata": {},
   "outputs": [
    {
     "data": {
      "text/plain": [
       "114415"
      ]
     },
     "execution_count": 12,
     "metadata": {},
     "output_type": "execute_result"
    }
   ],
   "source": [
    "IMDbMoviesFilter = IMDbMovies['startYear'].isin(recentYears)\n",
    "IMDbMovies = IMDbMovies[IMDbMoviesFilter]\n",
    "len(IMDbMovies)"
   ]
  },
  {
   "cell_type": "code",
   "execution_count": 42,
   "metadata": {
    "collapsed": true
   },
   "outputs": [],
   "source": [
    "#f = open(\"IMDb/clean_data.tsv\", \"w\")"
   ]
  },
  {
   "cell_type": "code",
   "execution_count": 43,
   "metadata": {},
   "outputs": [
    {
     "data": {
      "text/plain": [
       "107"
      ]
     },
     "execution_count": 43,
     "metadata": {},
     "output_type": "execute_result"
    }
   ],
   "source": [
    "#f.write(\"tconst\ttitleType \\t primaryTitle \\t originalTitle \\t isAdult \\t startYear \\t endYear \\t runtimeMinutes \\t genres \\n\")"
   ]
  },
  {
   "cell_type": "code",
   "execution_count": 46,
   "metadata": {},
   "outputs": [],
   "source": [
    "#for index, row in IMDbMovies.iterrows():\n",
    "#    for cols in IMDbMovies.columns:\n",
    "#        f.write(row[cols] + \"\\t\")\n",
    "#    f.write(\"\\n\")"
   ]
  },
  {
   "cell_type": "code",
   "execution_count": 47,
   "metadata": {
    "collapsed": true
   },
   "outputs": [],
   "source": [
    "#f.close()"
   ]
  },
  {
   "cell_type": "code",
   "execution_count": null,
   "metadata": {
    "collapsed": true
   },
   "outputs": [],
   "source": []
  }
 ],
 "metadata": {
  "kernelspec": {
   "display_name": "Python 3",
   "language": "python",
   "name": "python3"
  },
  "language_info": {
   "codemirror_mode": {
    "name": "ipython",
    "version": 3
   },
   "file_extension": ".py",
   "mimetype": "text/x-python",
   "name": "python",
   "nbconvert_exporter": "python",
   "pygments_lexer": "ipython3",
   "version": "3.6.3"
  }
 },
 "nbformat": 4,
 "nbformat_minor": 2
}
